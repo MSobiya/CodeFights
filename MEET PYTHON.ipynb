{
 "cells": [
  {
   "cell_type": "markdown",
   "metadata": {},
   "source": [
    "# 1. What will be the value of res after the following snippet is executed:"
   ]
  },
  {
   "cell_type": "code",
   "execution_count": 14,
   "metadata": {},
   "outputs": [
    {
     "name": "stdout",
     "output_type": "stream",
     "text": [
      "[True, False]\n"
     ]
    }
   ],
   "source": [
    "xs = [()]\n",
    "res = [False] * 2\n",
    "\n",
    "if xs:\n",
    "    res[0] = True\n",
    "if xs[0]:\n",
    "    res[1] = True\n",
    "\n",
    "print(res)\n",
    "#[True, False]"
   ]
  },
  {
   "cell_type": "markdown",
   "metadata": {},
   "source": [
    "### Answer- [True, False]"
   ]
  },
  {
   "cell_type": "markdown",
   "metadata": {},
   "source": [
    "\n",
    "# 2. Efficient comparison\n",
    "\n",
    "You would like to write a function that takes integer numbers x, y, L and R as parameters and returns True if xy lies in the interval (L, R] and False otherwise. You're considering several ways to write a conditional statement inside this function:\n",
    "\n",
    "if L < x ** y <= R:\n",
    "\n",
    "if x ** y > L and x ** y <= R:\n",
    "\n",
    "if x ** y in range(L + 1, R + 1):\n",
    "\n",
    "What option would be the most efficient in terms of execution time?"
   ]
  },
  {
   "cell_type": "code",
   "execution_count": 2,
   "metadata": {},
   "outputs": [
    {
     "name": "stdout",
     "output_type": "stream",
     "text": [
      "0.6845709880003596\n",
      "1.045464417000403\n",
      "1.2211731329998656\n"
     ]
    }
   ],
   "source": [
    "x = 2\n",
    "y = 2\n",
    "L = 3\n",
    "R = 7\n",
    "\n",
    "def test1():\n",
    "    if L < x ** y <= R:\n",
    "        return True\n",
    "    return False\n",
    "\n",
    "def test2():\n",
    "    if x ** y > L and x ** y <= R:\n",
    "        return True\n",
    "    return False\n",
    "\n",
    "def test3():\n",
    "    if x ** y in range(L + 1, R + 1):\n",
    "        return True\n",
    "    return False\n",
    "\n",
    "\n",
    "# test performance\n",
    "\n",
    "import timeit\n",
    "\n",
    "t1 = timeit.Timer(setup='from __main__ import test1', stmt='test1()')\n",
    "t2 = timeit.Timer(setup='from __main__ import test2', stmt='test2()')\n",
    "t3 = timeit.Timer(setup='from __main__ import test3', stmt='test3()')\n",
    "\n",
    "print(t1.timeit())\n",
    "print(t2.timeit())\n",
    "print(t3.timeit())\n",
    "\n",
    "#Option 1 is the most optimal one"
   ]
  },
  {
   "cell_type": "markdown",
   "metadata": {},
   "source": [
    "\n",
    "### Answer- Option 1 is the most optimal one"
   ]
  },
  {
   "cell_type": "markdown",
   "metadata": {},
   "source": [
    "# 3. Special Condition\n",
    "\n",
    "One of the given statements doesn't work the same way others do. Which one? Assume that a and b are boolean variables.\n",
    "\n",
    "    a. not (a == b)\n",
    "    b. a == (not b) [check]\n",
    "    c. a == not b\n",
    "    d. not a == b\n"
   ]
  },
  {
   "cell_type": "code",
   "execution_count": 5,
   "metadata": {},
   "outputs": [
    {
     "name": "stdout",
     "output_type": "stream",
     "text": [
      "False\n",
      "False\n",
      "False\n"
     ]
    }
   ],
   "source": [
    "a = True\n",
    "b = True\n",
    "print(not(a == b))\n",
    "print(a == (not b))\n",
    "print(not a == b)\n",
    "\n",
    "# c. a == not b"
   ]
  },
  {
   "cell_type": "code",
   "execution_count": 6,
   "metadata": {},
   "outputs": [
    {
     "ename": "SyntaxError",
     "evalue": "invalid syntax (<ipython-input-6-4a1c2ef47703>, line 1)",
     "output_type": "error",
     "traceback": [
      "\u001b[0;36m  File \u001b[0;32m\"<ipython-input-6-4a1c2ef47703>\"\u001b[0;36m, line \u001b[0;32m1\u001b[0m\n\u001b[0;31m    print(a == not b)\u001b[0m\n\u001b[0m                 ^\u001b[0m\n\u001b[0;31mSyntaxError\u001b[0m\u001b[0;31m:\u001b[0m invalid syntax\n"
     ]
    }
   ],
   "source": [
    "print(a == not b)"
   ]
  },
  {
   "cell_type": "markdown",
   "metadata": {},
   "source": [
    "### Answer- c. a == not b"
   ]
  },
  {
   "cell_type": "markdown",
   "metadata": {},
   "source": [
    "\n",
    "# 4. Language Differences\n",
    "\n",
    "Your friend, an experienced coder, has just started to learn Python. Since he is already proficient in Java and C++, he decided to write all his snippets in all three languages to test his Python code. Here's the very first function your friend wrote in Python and Java (the C++ version is the same as Java one):\n",
    "\n",
    "def division(x, y):\n",
    "    return x // y\n",
    "\n",
    "in division(int x, int y) {\n",
    "    return x / y;\n",
    "}\n",
    "\n",
    "You noticed that the functions aren't quite the same: they won't produce the same result for some valid values of x and y. Which ones?\n",
    "\n",
    "    a. x = 17, y = 13\n",
    "    b. x = 5, y = 10\n",
    "    c. x = 15, y = -4\n",
    "    d. x = -10, y = 3\n",
    "    e. x = -8, y = 2\n",
    "\n"
   ]
  },
  {
   "cell_type": "code",
   "execution_count": 7,
   "metadata": {},
   "outputs": [
    {
     "name": "stdout",
     "output_type": "stream",
     "text": [
      "1\n",
      "1.3076923076923077\n",
      "0\n",
      "0.5\n",
      "-4\n",
      "-3.75\n",
      "3\n",
      "3.3333333333333335\n",
      "-4\n",
      "-4.0\n"
     ]
    }
   ],
   "source": [
    "x = 17\n",
    "y = 13\n",
    "print(x//y)\n",
    "print(x/y)\n",
    "\n",
    "x = 5\n",
    "y = 10\n",
    "print(x//y)\n",
    "print(x/y)\n",
    "\n",
    "x = 15\n",
    "y = -4\n",
    "print(x//y)\n",
    "print(x/y)\n",
    "\n",
    "x = -10\n",
    "y = -3\n",
    "print(x//y)\n",
    "print(x/y)\n",
    "\n",
    "x = -8\n",
    "y = 2\n",
    "print(x//y)\n",
    "print(x/y)\n",
    "\n",
    "# c. x = 15, y = -4"
   ]
  },
  {
   "cell_type": "markdown",
   "metadata": {},
   "source": [
    "### Answer - c. x = 15, y = -4"
   ]
  },
  {
   "cell_type": "markdown",
   "metadata": {},
   "source": [
    "\n",
    "\n",
    "\n",
    "\n",
    "# 5. Count Bits\n",
    "\n",
    "\n",
    "Implement a function that, given an integer n, uses a specific method on it and returns the number of bits in its binary representation.\n",
    "\n",
    "Note: in this task and most of the following tasks you will be given a code snippet with some part of it replaced by the ellipsis (...). Only this part is allowed to be changed.\n",
    "\n",
    "Example\n",
    "\n",
    "For n = 50, the output should be\n",
    "countBits(n) = 6.\n",
    "\n",
    "5010 = 1100102, a number that consists of 6 digits. Thus, the output should be 6."
   ]
  },
  {
   "cell_type": "code",
   "execution_count": 11,
   "metadata": {},
   "outputs": [],
   "source": [
    "#Answer\n",
    "def countBits(n):\n",
    "    return n.bit_length()"
   ]
  },
  {
   "cell_type": "markdown",
   "metadata": {},
   "source": [
    "\n",
    "\n",
    "\n",
    "\n",
    "\n",
    "\n",
    "# 6. Modulus\n",
    "\n",
    "It frustrates you more than you'd like to admit that the modulus operator in Python can be applied to non-integer values. When you write code, you expect the result of the modulus operator to always be an integer, but thanks to Python this isn't always the case.\n",
    "\n",
    "To fix this, you've decided to write your own modulus operator as a function. Your task is to implement a function that, given a number n, returns -1 if this number is not an integer and n % 2 otherwise. It is guaranteed that if the number represents an integer, it will be written without a decimal point.\n",
    "\n",
    "Example\n",
    "\n",
    "    For n = 15, the output should be\n",
    "    modulus(n) = 1;\n",
    "\n",
    "    For n = 23.12, the output should be\n",
    "    modulus(n) = -1.\n",
    "\n"
   ]
  },
  {
   "cell_type": "code",
   "execution_count": 13,
   "metadata": {},
   "outputs": [],
   "source": [
    "#Answer:\n",
    "def modulus(n):\n",
    "    if(isinstance(n,int)) :\n",
    "        return n % 2\n",
    "    else:\n",
    "        return -1\n"
   ]
  },
  {
   "cell_type": "markdown",
   "metadata": {},
   "source": [
    "\n",
    "\n",
    "\n",
    "\n",
    "# 7. Simple Sort\n",
    "\n",
    "To understand how efficient the built-in Python sorting function is, you decided to implement your own simple sorting algorithm and compare its speed to the speed of the Python sorting. Write a function that, given an array of integers arr, sorts its elements in ascending order.\n",
    "\n",
    "Hint: with Python it's possible to swap several elements in a single line. To solve the task, use this knowledge to fill in both of the blanks (...).\n",
    "\n",
    "Example\n",
    "\n",
    "For arr = [2, 4, 1, 5], the output should be\n",
    "simpleSort(arr) = [1, 2, 4, 5].\n"
   ]
  },
  {
   "cell_type": "code",
   "execution_count": 17,
   "metadata": {},
   "outputs": [],
   "source": [
    "#Answer\n",
    "def simpleSort(arr):\n",
    "\n",
    "    n = len(arr)\n",
    "\n",
    "    for i in range(n):\n",
    "        j = 0\n",
    "        stop = n - i\n",
    "        while j < stop - 1:\n",
    "            if arr[j] > arr[j + 1]:\n",
    "                arr[j],arr[j+1] = arr[j+1],arr[j]\n",
    "            j += 1\n",
    "    return arr\n"
   ]
  },
  {
   "cell_type": "markdown",
   "metadata": {},
   "source": [
    "\n",
    "\n",
    "\n",
    "\n",
    "\n",
    "# 8. Base Conversion\n",
    "\n",
    "Your university professor decided to have a little fun and asked the class to implement a function that, given a number n and a base x, converts the number from base x to base 16. To make things more interesting, he announced that the first student to write the solution will have to answer fewer question than the rest of the class during the final exam.\n",
    "\n",
    "Laughing devilishly, you asked if it was okay to use a language of your choice, and the unsuspecting professor answered \"yes\". It's settled then: Python is your language of choice!\n",
    "\n",
    "Now you're bound to win. Implement a function that, given an integer number n and a base x, converts n from base x to base 16.\n",
    "\n",
    "Example\n",
    "\n",
    "For n = \"1302\" and x = 5, the output should be\n",
    "baseConvertion(n, x) = \"ca\".\n",
    "\n",
    "Here's why:\n",
    "13025 = 20210 = ca16.\n",
    "\n",
    "\n",
    "\n",
    "\n",
    "\n",
    "    Input/Output\n",
    "        [time limit] 4000ms (py3)\n",
    "        [input] string n\n",
    "\n",
    "    A valid non-negative integer in base x. The string is guaranteed to consist of digits and lowercase English letters.\n",
    "\n",
    "    Guaranteed constraints:\n",
    "        1 < n.length ≤ 10.\n",
    "\n",
    "    [input] integer x\n",
    "        The base of n.\n",
    "\n",
    "    Guaranteed constraints:\n",
    "        2 ≤ x ≤ 36.\n",
    "\n",
    "    [output] string\n",
    "\n",
    "The value of n in base 16. The string should contain only digits and lowercase English letters 'a' - 'f'."
   ]
  },
  {
   "cell_type": "code",
   "execution_count": 18,
   "metadata": {},
   "outputs": [],
   "source": [
    "#Answer\n",
    "def baseConversion(n, x):\n",
    "    return hex(int(n, x))[2:]\n",
    "#here [2:] is used because hexadecimal number starts with 0x"
   ]
  },
  {
   "cell_type": "markdown",
   "metadata": {},
   "source": [
    "# 9. Mex Function\n",
    "You've just started to study impartial games, and came across an interesting theory. The theory is quite complicated, but it can be narrowed down to the following statements: solutions to all such games can be found with the mex function. Mex is an abbreviation of minimum excludant: for the given set s it finds the minimum non-negative integer that is not present in s.\n",
    "\n",
    "You don't yet know how to implement such a function efficiently, so would like to create a simplified version. For the given set s and given an upperBound, implement a function that will find its mex if it's smaller than upperBound or return upperBound instead.\n",
    "\n",
    "Hint: for loops also have an else clause which executes when the loop completes normally, i.e. without encountering any breaks\n",
    "\n",
    "Example\n",
    "\n",
    "For s = [0, 4, 2, 3, 1, 7] and upperBound = 10,\n",
    "the output should be\n",
    "mexFunction(s, upperBound) = 5.\n",
    "\n",
    "5 is the smallest non-negative integer that is not present in s, and it is smaller than upperBound.\n",
    "\n",
    "For s = [0, 4, 2, 3, 1, 7] and upperBound = 3,\n",
    "the output should be\n",
    "mexFunction(s, upperBound) = 3.\n",
    "\n",
    "The minimum excludant for the given set is 5, but it's greater than upperBound, so the output should be 3.\n",
    "\n",
    "    Input/Output\n",
    "        [time limit] 4000ms (py3)\n",
    "        [input] array.integer s\n",
    "\n",
    "    Array of distinct non-negative integers.\n",
    "\n",
    "    Guaranteed constraints:\n",
    "        0 ≤ s.length ≤ 100,\n",
    "        0 ≤ s[i] ≤ 100.\n",
    "\n",
    "    [input] integer upperBound\n",
    "\n",
    "    A positive integer.\n",
    "\n",
    "    Guaranteed constraints:\n",
    "        1 ≤ upperBound ≤ 100.\n",
    "\n",
    "    [output] integer\n",
    "\n",
    "Mex of s if it's smaller than upperBound, or upperBound instead."
   ]
  },
  {
   "cell_type": "code",
   "execution_count": 21,
   "metadata": {},
   "outputs": [],
   "source": [
    "def mexFunction(s, upperBound):\n",
    "    found = -1\n",
    "    for i in range(upperBound):\n",
    "        if not i in s:\n",
    "            found = i\n",
    "            break\n",
    "    else:\n",
    "        found = upperBound\n",
    "\n",
    "    return found\n",
    "\n"
   ]
  },
  {
   "cell_type": "markdown",
   "metadata": {},
   "source": [
    "\n",
    "\n",
    "\n",
    "# 10. List Beautifier\n",
    "\n",
    "Let's call a list beautiful if its first element is equal to its last element, or if a list is empty. Given a list a, your task is to chop off its first and its last element until it becomes beautiful. Implement a function that will make the given a beautiful as described, and return the resulting list as an answer.\n",
    "\n",
    "Hint: one of the features introduced in Python 3 called extended unpacking could help here.\n",
    "\n",
    "Example\n",
    "\n",
    "For a = [3, 4, 2, 4, 38, 4, 5, 3, 2], the output should be\n",
    "listBeautifier(a) = [4, 38, 4].\n",
    "\n",
    "Here's how the answer is obtained:\n",
    "[3, 4, 2, 4, 38, 4, 5, 3, 2] => [4, 2, 4, 38, 4, 5, 3] => [2, 4, 38, 4, 5] => [4, 38, 4].\n",
    "\n",
    "For a = [1, 4, -5], the output should be\n",
    "listBeautifier(a) = [4].\n",
    "\n",
    "    Input/Output\n",
    "        [time limit] 4000ms (py3)\n",
    "        [input] array.integer a\n",
    "\n",
    "    A list of integers.\n",
    "\n",
    "    Guaranteed constraints:\n",
    "        0 ≤ a.length ≤ 50,\n",
    "        1 ≤ a[i] ≤ 100.\n",
    "\n",
    "    [output] array.integer\n",
    "\n",
    "A beautiful list obtained as described above.\n"
   ]
  },
  {
   "cell_type": "code",
   "execution_count": 20,
   "metadata": {},
   "outputs": [],
   "source": [
    "def listBeautifier(a):\n",
    "    res = a[:]\n",
    "    while res and res[0] != res[-1]:\n",
    "        a, *res, b = res\n",
    "    return res"
   ]
  },
  {
   "cell_type": "code",
   "execution_count": null,
   "metadata": {},
   "outputs": [],
   "source": []
  }
 ],
 "metadata": {
  "kernelspec": {
   "display_name": "Python 3",
   "language": "python",
   "name": "python3"
  },
  "language_info": {
   "codemirror_mode": {
    "name": "ipython",
    "version": 3
   },
   "file_extension": ".py",
   "mimetype": "text/x-python",
   "name": "python",
   "nbconvert_exporter": "python",
   "pygments_lexer": "ipython3",
   "version": "3.5.2"
  }
 },
 "nbformat": 4,
 "nbformat_minor": 2
}
